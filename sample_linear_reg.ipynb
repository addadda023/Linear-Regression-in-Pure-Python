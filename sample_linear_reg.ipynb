{
 "cells": [
  {
   "cell_type": "markdown",
   "id": "70e41696",
   "metadata": {},
   "source": [
    "We will try out linear regression using the first principle back propagation and using the micrograd back propagation on the same set of data. "
   ]
  },
  {
   "cell_type": "code",
   "execution_count": 24,
   "id": "4eeadb52",
   "metadata": {},
   "outputs": [],
   "source": [
    "# Imports\n",
    "import first_principle as first_principle\n",
    "import use_micrograd as use_micrograd\n",
    "from micrograd import AdagradOptimizer, SGDOptimizer, MomentumOptimizer, AdamOptimizer"
   ]
  },
  {
   "cell_type": "code",
   "execution_count": 2,
   "id": "a7842a44",
   "metadata": {},
   "outputs": [],
   "source": [
    "# Data\n",
    "X = [[1.0, 2.0], [2.0, 3.0], [3.0, 4.0], [4.0, 5.0], [5.0, 6.0]]\n",
    "y = [3.0, 5.0, 7.0, 9.0, 11.0]"
   ]
  },
  {
   "cell_type": "markdown",
   "id": "eafb2345",
   "metadata": {},
   "source": [
    "## Linear regression from first principle\n",
    "Here the whole dataset is trained in each step. So the loss reported is the total loss. Lets train the model for 10 steps."
   ]
  },
  {
   "cell_type": "code",
   "execution_count": 3,
   "id": "7f9dac41",
   "metadata": {},
   "outputs": [
    {
     "name": "stdout",
     "output_type": "stream",
     "text": [
      "Step 0. Total loss: 51.468681\n",
      "Step 1. Total loss: 11.123484\n",
      "Step 2. Total loss: 2.450947\n",
      "Step 3. Total loss: 0.586373\n",
      "Step 4. Total loss: 0.185156\n",
      "Step 5. Total loss: 0.098488\n",
      "Step 6. Total loss: 0.079434\n",
      "Step 7. Total loss: 0.074917\n",
      "Step 8. Total loss: 0.073528\n",
      "Step 9. Total loss: 0.072814\n",
      "Step 10. Total loss: 0.072248\n",
      "Prediction for [5.0, 6.0]: 10.740159881695753\n"
     ]
    }
   ],
   "source": [
    "model = first_principle.LinearRegression(batch_size=5, num_features=2)\n",
    "for index in range(11):\n",
    "    pred, loss = model.train(features=X, labels=y, learning_rate=0.009)\n",
    "    print(f'Step {index}. Total loss: {loss:5f}')\n",
    "\n",
    "test_features = [[5.0, 6.0]]\n",
    "prediction = model.forward(test_features)\n",
    "print(f\"Prediction for {test_features[-1]}: {prediction[-1]}\")"
   ]
  },
  {
   "cell_type": "markdown",
   "id": "39b9b073",
   "metadata": {},
   "source": [
    "## Linear regression with micrograd + SGD optimizer"
   ]
  },
  {
   "cell_type": "code",
   "execution_count": 4,
   "id": "d2694ef2",
   "metadata": {},
   "outputs": [
    {
     "name": "stdout",
     "output_type": "stream",
     "text": [
      "Epoch [5/30], Total Loss per epoch: 38.2867, Loss per sample: 7.6573\n",
      "Epoch [10/30], Total Loss per epoch: 7.7243, Loss per sample: 1.5449\n",
      "Epoch [15/30], Total Loss per epoch: 0.7200, Loss per sample: 0.1440\n",
      "Epoch [20/30], Total Loss per epoch: 0.1939, Loss per sample: 0.0388\n",
      "Epoch [25/30], Total Loss per epoch: 0.1092, Loss per sample: 0.0218\n",
      "Epoch [30/30], Total Loss per epoch: 0.0654, Loss per sample: 0.0131\n",
      "Prediction for [5.0, 6.0]: 10.802168781842427\n"
     ]
    }
   ],
   "source": [
    "model = use_micrograd.LinearRegression(num_features=2)\n",
    "optimizer = SGDOptimizer(model.parameters(), learning_rate=0.001)\n",
    "use_micrograd.train(model, optimizer, X, y, epochs=30, batch_size=2)\n",
    "# Make a prediction\n",
    "test_features = [5.0, 6.0]\n",
    "prediction = model.forward(test_features)\n",
    "print(f\"Prediction for {test_features}: {prediction.value}\")"
   ]
  },
  {
   "cell_type": "markdown",
   "id": "84aea6c9",
   "metadata": {},
   "source": [
    "## Linear regression with micrograd + Adagrad optimizer"
   ]
  },
  {
   "cell_type": "code",
   "execution_count": 11,
   "id": "eed3ea7a",
   "metadata": {},
   "outputs": [
    {
     "name": "stdout",
     "output_type": "stream",
     "text": [
      "Epoch [5/30], Total Loss per epoch: 495.9855, Loss per sample: 99.1971\n",
      "Epoch [10/30], Total Loss per epoch: 582.4815, Loss per sample: 116.4963\n",
      "Epoch [15/30], Total Loss per epoch: 467.3942, Loss per sample: 93.4788\n",
      "Epoch [20/30], Total Loss per epoch: 529.3330, Loss per sample: 105.8666\n",
      "Epoch [25/30], Total Loss per epoch: 465.3122, Loss per sample: 93.0624\n",
      "Epoch [30/30], Total Loss per epoch: 527.2458, Loss per sample: 105.4492\n",
      "Prediction for [5.0, 6.0]: -8.483620290906742\n"
     ]
    }
   ],
   "source": [
    "model = use_micrograd.LinearRegression(num_features=2)\n",
    "optimizer = AdagradOptimizer(model.parameters(), learning_rate=0.001)\n",
    "use_micrograd.train(model, optimizer, X, y, epochs=30, batch_size=2)\n",
    "# Make a prediction\n",
    "test_features = [5.0, 6.0]\n",
    "prediction = model.forward(test_features)\n",
    "print(f\"Prediction for {test_features}: {prediction.value}\")"
   ]
  },
  {
   "cell_type": "markdown",
   "id": "5d5f161f",
   "metadata": {},
   "source": [
    "The learning rate is too low for AdagradOptimizer. Lets increase it and try again."
   ]
  },
  {
   "cell_type": "code",
   "execution_count": 17,
   "id": "3a6ba7dc",
   "metadata": {},
   "outputs": [
    {
     "name": "stdout",
     "output_type": "stream",
     "text": [
      "Epoch [5/30], Total Loss per epoch: 30.9045, Loss per sample: 6.1809\n",
      "Epoch [10/30], Total Loss per epoch: 7.3630, Loss per sample: 1.4726\n",
      "Epoch [15/30], Total Loss per epoch: 1.8242, Loss per sample: 0.3648\n",
      "Epoch [20/30], Total Loss per epoch: 0.6512, Loss per sample: 0.1302\n",
      "Epoch [25/30], Total Loss per epoch: 0.2103, Loss per sample: 0.0421\n",
      "Epoch [30/30], Total Loss per epoch: 0.1572, Loss per sample: 0.0314\n",
      "Prediction for [5.0, 6.0]: 10.69637069075595\n"
     ]
    }
   ],
   "source": [
    "model = use_micrograd.LinearRegression(num_features=2)\n",
    "optimizer = AdagradOptimizer(model.parameters(), learning_rate=0.15)\n",
    "use_micrograd.train(model, optimizer, X, y, epochs=30, batch_size=2)\n",
    "# Make a prediction\n",
    "test_features = [5.0, 6.0]\n",
    "prediction = model.forward(test_features)\n",
    "print(f\"Prediction for {test_features}: {prediction.value}\")"
   ]
  },
  {
   "cell_type": "markdown",
   "id": "56608da5",
   "metadata": {},
   "source": [
    "## Linear regression with micrograd + Momentum optimizer\n",
    "With momentum, the model converges faster than all previous optimizers."
   ]
  },
  {
   "cell_type": "code",
   "execution_count": 18,
   "id": "53f20a9b",
   "metadata": {},
   "outputs": [
    {
     "name": "stdout",
     "output_type": "stream",
     "text": [
      "Epoch [5/30], Total Loss per epoch: 39.4127, Loss per sample: 7.8825\n",
      "Epoch [10/30], Total Loss per epoch: 35.5727, Loss per sample: 7.1145\n",
      "Epoch [15/30], Total Loss per epoch: 3.1929, Loss per sample: 0.6386\n",
      "Epoch [20/30], Total Loss per epoch: 1.0540, Loss per sample: 0.2108\n",
      "Epoch [25/30], Total Loss per epoch: 0.6013, Loss per sample: 0.1203\n",
      "Epoch [30/30], Total Loss per epoch: 0.0250, Loss per sample: 0.0050\n",
      "Prediction for [5.0, 6.0]: 10.828494179869537\n"
     ]
    }
   ],
   "source": [
    "model = use_micrograd.LinearRegression(num_features=2)\n",
    "optimizer = MomentumOptimizer(model.parameters(), learning_rate=0.005, momentum=0.90)\n",
    "use_micrograd.train(model, optimizer, X, y, epochs=30, batch_size=2)\n",
    "# Make a prediction\n",
    "test_features = [5.0, 6.0]\n",
    "prediction = model.forward(test_features)\n",
    "print(f\"Prediction for {test_features}: {prediction.value}\")"
   ]
  },
  {
   "cell_type": "markdown",
   "id": "bf33050b",
   "metadata": {},
   "source": [
    "## Linear regression with micrograd + Adam optimizer\n",
    "Adam converges faster than Momentum optimizer."
   ]
  },
  {
   "cell_type": "code",
   "execution_count": 23,
   "id": "391fbec8",
   "metadata": {},
   "outputs": [
    {
     "name": "stdout",
     "output_type": "stream",
     "text": [
      "Epoch [5/30], Total Loss per epoch: 2.5861, Loss per sample: 0.5172\n",
      "Epoch [10/30], Total Loss per epoch: 0.3481, Loss per sample: 0.0696\n",
      "Epoch [15/30], Total Loss per epoch: 0.0498, Loss per sample: 0.0100\n",
      "Epoch [20/30], Total Loss per epoch: 0.0162, Loss per sample: 0.0032\n",
      "Epoch [25/30], Total Loss per epoch: 0.0101, Loss per sample: 0.0020\n",
      "Epoch [30/30], Total Loss per epoch: 0.0055, Loss per sample: 0.0011\n",
      "Prediction for [5.0, 6.0]: 11.012254686097531\n"
     ]
    }
   ],
   "source": [
    "model = use_micrograd.LinearRegression(num_features=2)\n",
    "optimizer = AdamOptimizer(model.parameters(), learning_rate=0.05, beta1=0.9, beta2=0.999)\n",
    "use_micrograd.train(model, optimizer, X, y, epochs=30, batch_size=2)\n",
    "# Make a prediction\n",
    "test_features = [5.0, 6.0]\n",
    "prediction = model.forward(test_features)\n",
    "print(f\"Prediction for {test_features}: {prediction.value}\")"
   ]
  },
  {
   "cell_type": "code",
   "execution_count": null,
   "id": "9e6524ae",
   "metadata": {},
   "outputs": [],
   "source": []
  }
 ],
 "metadata": {
  "kernelspec": {
   "display_name": ".venv",
   "language": "python",
   "name": "python3"
  },
  "language_info": {
   "codemirror_mode": {
    "name": "ipython",
    "version": 3
   },
   "file_extension": ".py",
   "mimetype": "text/x-python",
   "name": "python",
   "nbconvert_exporter": "python",
   "pygments_lexer": "ipython3",
   "version": "3.13.5"
  }
 },
 "nbformat": 4,
 "nbformat_minor": 5
}
