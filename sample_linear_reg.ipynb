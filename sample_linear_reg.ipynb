{
 "cells": [
  {
   "cell_type": "markdown",
   "id": "70e41696",
   "metadata": {},
   "source": [
    "We will try out linear regression using the first principle back propagation and using the micrograd back propagation on the same set of data. "
   ]
  },
  {
   "cell_type": "code",
   "execution_count": 26,
   "id": "4eeadb52",
   "metadata": {},
   "outputs": [],
   "source": [
    "# Imports\n",
    "import linear_reg.src.first_principle as first_principle\n",
    "import linear_reg.src.use_micrograd as use_micrograd\n",
    "from linear_reg.optim.optimizer import AdagradOptimizer, SGDOptimizer, MomentumOptimizer, AdamOptimizer"
   ]
  },
  {
   "cell_type": "code",
   "execution_count": 4,
   "id": "a7842a44",
   "metadata": {},
   "outputs": [],
   "source": [
    "# Data\n",
    "X = [[1.0, 2.0], [2.0, 3.0], [3.0, 4.0], [4.0, 5.0], [5.0, 6.0]]\n",
    "y = [3.0, 5.0, 7.0, 9.0, 11.0]"
   ]
  },
  {
   "cell_type": "markdown",
   "id": "eafb2345",
   "metadata": {},
   "source": [
    "## Linear regression from first principle\n",
    "Here the whole dataset is trained in each step. So the loss reported is the total loss. Lets train the model for 10 steps."
   ]
  },
  {
   "cell_type": "code",
   "execution_count": 5,
   "id": "7f9dac41",
   "metadata": {},
   "outputs": [
    {
     "name": "stdout",
     "output_type": "stream",
     "text": [
      "Step 0. Total loss: 49.492646\n",
      "Step 1. Total loss: 10.724582\n",
      "Step 2. Total loss: 2.390859\n",
      "Step 3. Total loss: 0.598926\n",
      "Step 4. Total loss: 0.213139\n",
      "Step 5. Total loss: 0.129605\n",
      "Step 6. Total loss: 0.111043\n",
      "Step 7. Total loss: 0.106451\n",
      "Step 8. Total loss: 0.104867\n",
      "Step 9. Total loss: 0.103933\n",
      "Step 10. Total loss: 0.103143\n",
      "Prediction for [5.0, 6.0]: 10.68999693146993\n"
     ]
    }
   ],
   "source": [
    "model = first_principle.LinearRegression(batch_size=5, num_features=2)\n",
    "for index in range(11):\n",
    "    pred, loss = model.train(features=X, labels=y, learning_rate=0.009)\n",
    "    print(f'Step {index}. Total loss: {loss:5f}')\n",
    "\n",
    "test_features = [[5.0, 6.0]]\n",
    "prediction = model.forward(test_features)\n",
    "print(f\"Prediction for {test_features[-1]}: {prediction[-1]}\")"
   ]
  },
  {
   "cell_type": "markdown",
   "id": "39b9b073",
   "metadata": {},
   "source": [
    "## Linear regression with micrograd + SGD optimizer"
   ]
  },
  {
   "cell_type": "code",
   "execution_count": 6,
   "id": "d2694ef2",
   "metadata": {},
   "outputs": [
    {
     "name": "stdout",
     "output_type": "stream",
     "text": [
      "Epoch [5/30], Total Loss per epoch: 46.3274, Loss per sample: 9.2655\n",
      "Epoch [10/30], Total Loss per epoch: 8.0531, Loss per sample: 1.6106\n",
      "Epoch [15/30], Total Loss per epoch: 1.2622, Loss per sample: 0.2524\n",
      "Epoch [20/30], Total Loss per epoch: 0.2508, Loss per sample: 0.0502\n",
      "Epoch [25/30], Total Loss per epoch: 0.0579, Loss per sample: 0.0116\n",
      "Epoch [30/30], Total Loss per epoch: 0.0297, Loss per sample: 0.0059\n",
      "Prediction for [5.0, 6.0]: 10.851056455851072\n"
     ]
    }
   ],
   "source": [
    "model = use_micrograd.LinearRegression(num_features=2)\n",
    "optimizer = SGDOptimizer(model.parameters(), learning_rate=0.001)\n",
    "use_micrograd.train(model, optimizer, X, y, epochs=30, batch_size=2)\n",
    "# Make a prediction\n",
    "test_features = [5.0, 6.0]\n",
    "prediction = model.forward(test_features)\n",
    "print(f\"Prediction for {test_features}: {prediction.value}\")"
   ]
  },
  {
   "cell_type": "markdown",
   "id": "84aea6c9",
   "metadata": {},
   "source": [
    "## Linear regression with micrograd + Adagrad optimizer"
   ]
  },
  {
   "cell_type": "code",
   "execution_count": 7,
   "id": "eed3ea7a",
   "metadata": {},
   "outputs": [
    {
     "name": "stdout",
     "output_type": "stream",
     "text": [
      "Epoch [5/30], Total Loss per epoch: 38.4283, Loss per sample: 7.6857\n",
      "Epoch [10/30], Total Loss per epoch: 41.5411, Loss per sample: 8.3082\n",
      "Epoch [15/30], Total Loss per epoch: 45.6037, Loss per sample: 9.1207\n",
      "Epoch [20/30], Total Loss per epoch: 34.4996, Loss per sample: 6.8999\n",
      "Epoch [25/30], Total Loss per epoch: 40.4363, Loss per sample: 8.0873\n",
      "Epoch [30/30], Total Loss per epoch: 44.5673, Loss per sample: 8.9135\n",
      "Prediction for [5.0, 6.0]: 5.844947463517881\n"
     ]
    }
   ],
   "source": [
    "model = use_micrograd.LinearRegression(num_features=2)\n",
    "optimizer = AdagradOptimizer(model.parameters(), learning_rate=0.001)\n",
    "use_micrograd.train(model, optimizer, X, y, epochs=30, batch_size=2)\n",
    "# Make a prediction\n",
    "test_features = [5.0, 6.0]\n",
    "prediction = model.forward(test_features)\n",
    "print(f\"Prediction for {test_features}: {prediction.value}\")"
   ]
  },
  {
   "cell_type": "markdown",
   "id": "5d5f161f",
   "metadata": {},
   "source": [
    "The learning rate is too low for AdagradOptimizer. Lets increase it and try again."
   ]
  },
  {
   "cell_type": "code",
   "execution_count": 8,
   "id": "3a6ba7dc",
   "metadata": {},
   "outputs": [
    {
     "name": "stdout",
     "output_type": "stream",
     "text": [
      "Epoch [5/30], Total Loss per epoch: 24.5341, Loss per sample: 4.9068\n",
      "Epoch [10/30], Total Loss per epoch: 3.5693, Loss per sample: 0.7139\n",
      "Epoch [15/30], Total Loss per epoch: 0.4398, Loss per sample: 0.0880\n",
      "Epoch [20/30], Total Loss per epoch: 0.0787, Loss per sample: 0.0157\n",
      "Epoch [25/30], Total Loss per epoch: 0.0149, Loss per sample: 0.0030\n",
      "Epoch [30/30], Total Loss per epoch: 0.0049, Loss per sample: 0.0010\n",
      "Prediction for [5.0, 6.0]: 11.005392753769122\n"
     ]
    }
   ],
   "source": [
    "model = use_micrograd.LinearRegression(num_features=2)\n",
    "optimizer = AdagradOptimizer(model.parameters(), learning_rate=0.15)\n",
    "use_micrograd.train(model, optimizer, X, y, epochs=30, batch_size=2)\n",
    "# Make a prediction\n",
    "test_features = [5.0, 6.0]\n",
    "prediction = model.forward(test_features)\n",
    "print(f\"Prediction for {test_features}: {prediction.value}\")"
   ]
  },
  {
   "cell_type": "markdown",
   "id": "56608da5",
   "metadata": {},
   "source": [
    "## Linear regression with micrograd + Momentum optimizer\n",
    "With momentum, the model converges faster than all previous optimizers."
   ]
  },
  {
   "cell_type": "code",
   "execution_count": 9,
   "id": "53f20a9b",
   "metadata": {},
   "outputs": [
    {
     "name": "stdout",
     "output_type": "stream",
     "text": [
      "Epoch [5/30], Total Loss per epoch: 13.9431, Loss per sample: 2.7886\n",
      "Epoch [10/30], Total Loss per epoch: 3.8992, Loss per sample: 0.7798\n",
      "Epoch [15/30], Total Loss per epoch: 0.1253, Loss per sample: 0.0251\n",
      "Epoch [20/30], Total Loss per epoch: 0.0231, Loss per sample: 0.0046\n",
      "Epoch [25/30], Total Loss per epoch: 0.0056, Loss per sample: 0.0011\n",
      "Epoch [30/30], Total Loss per epoch: 0.0020, Loss per sample: 0.0004\n",
      "Prediction for [5.0, 6.0]: 10.967606595019898\n"
     ]
    }
   ],
   "source": [
    "model = use_micrograd.LinearRegression(num_features=2)\n",
    "optimizer = MomentumOptimizer(model.parameters(), learning_rate=0.005, momentum=0.90)\n",
    "use_micrograd.train(model, optimizer, X, y, epochs=30, batch_size=2)\n",
    "# Make a prediction\n",
    "test_features = [5.0, 6.0]\n",
    "prediction = model.forward(test_features)\n",
    "print(f\"Prediction for {test_features}: {prediction.value}\")"
   ]
  },
  {
   "cell_type": "markdown",
   "id": "bf33050b",
   "metadata": {},
   "source": [
    "## Linear regression with micrograd + Adam optimizer\n",
    "Adam converges faster than Momentum optimizer."
   ]
  },
  {
   "cell_type": "code",
   "execution_count": 25,
   "id": "391fbec8",
   "metadata": {},
   "outputs": [
    {
     "name": "stdout",
     "output_type": "stream",
     "text": [
      "Epoch [5/30], Total Loss per epoch: 0.9220, Loss per sample: 0.1844\n",
      "Epoch [10/30], Total Loss per epoch: 0.0660, Loss per sample: 0.0132\n",
      "Epoch [15/30], Total Loss per epoch: 0.0664, Loss per sample: 0.0133\n",
      "Epoch [20/30], Total Loss per epoch: 0.0153, Loss per sample: 0.0031\n",
      "Epoch [25/30], Total Loss per epoch: 0.0109, Loss per sample: 0.0022\n",
      "Epoch [30/30], Total Loss per epoch: 0.0097, Loss per sample: 0.0019\n",
      "Prediction for [5.0, 6.0]: 10.961203645023467\n"
     ]
    }
   ],
   "source": [
    "model = use_micrograd.LinearRegression(num_features=2)\n",
    "optimizer = AdamOptimizer(model.parameters(), learning_rate=0.01, beta1=0.9, beta2=0.999)\n",
    "use_micrograd.train(model, optimizer, X, y, epochs=30, batch_size=2)\n",
    "# Make a prediction\n",
    "test_features = [5.0, 6.0]\n",
    "prediction = model.forward(test_features)\n",
    "print(f\"Prediction for {test_features}: {prediction.value}\")"
   ]
  }
 ],
 "metadata": {
  "kernelspec": {
   "display_name": ".venv",
   "language": "python",
   "name": "python3"
  },
  "language_info": {
   "codemirror_mode": {
    "name": "ipython",
    "version": 3
   },
   "file_extension": ".py",
   "mimetype": "text/x-python",
   "name": "python",
   "nbconvert_exporter": "python",
   "pygments_lexer": "ipython3",
   "version": "3.13.5"
  }
 },
 "nbformat": 4,
 "nbformat_minor": 5
}
